{
  "nbformat": 4,
  "nbformat_minor": 0,
  "metadata": {
    "colab": {
      "provenance": []
    },
    "kernelspec": {
      "name": "python3",
      "display_name": "Python 3"
    },
    "language_info": {
      "name": "python"
    }
  },
  "cells": [
    {
      "cell_type": "code",
      "execution_count": null,
      "metadata": {
        "colab": {
          "base_uri": "https://localhost:8080/"
        },
        "id": "BvDfeuKjL2yq",
        "outputId": "9fc556e6-5525-43c5-ab35-c3b97b009172"
      },
      "outputs": [
        {
          "output_type": "stream",
          "name": "stdout",
          "text": [
            "TF version: 2.19.0\n"
          ]
        }
      ],
      "source": [
        "# --- Imports ---\n",
        "import tensorflow as tf\n",
        "from tensorflow.keras import layers, models\n",
        "from tensorflow.keras.datasets import cifar10\n",
        "import matplotlib.pyplot as plt\n",
        "print(\"TF version:\", tf.__version__)"
      ]
    },
    {
      "cell_type": "markdown",
      "source": [
        "Load and prep the data"
      ],
      "metadata": {
        "id": "zsmC1-gQMY5R"
      }
    },
    {
      "cell_type": "code",
      "source": [
        "(x_train, y_train), (x_test, y_test) = cifar10.load_data()\n",
        "num_classes = 10"
      ],
      "metadata": {
        "id": "iLOTSFHuMawq"
      },
      "execution_count": null,
      "outputs": []
    },
    {
      "cell_type": "code",
      "source": [
        "x_train.shape"
      ],
      "metadata": {
        "colab": {
          "base_uri": "https://localhost:8080/"
        },
        "id": "6kD6C_zHM0h1",
        "outputId": "950f12b7-cfbe-4851-fd1a-5ac10a1d2475"
      },
      "execution_count": null,
      "outputs": [
        {
          "output_type": "execute_result",
          "data": {
            "text/plain": [
              "(50000, 32, 32, 3)"
            ]
          },
          "metadata": {},
          "execution_count": 14
        }
      ]
    },
    {
      "cell_type": "code",
      "source": [
        "x_test.shape"
      ],
      "metadata": {
        "colab": {
          "base_uri": "https://localhost:8080/"
        },
        "id": "YvoPJetnM8Br",
        "outputId": "aaddbcd1-3b57-4caa-878f-c48f6259e2ff"
      },
      "execution_count": null,
      "outputs": [
        {
          "output_type": "execute_result",
          "data": {
            "text/plain": [
              "(10000, 32, 32, 3)"
            ]
          },
          "metadata": {},
          "execution_count": 15
        }
      ]
    },
    {
      "cell_type": "code",
      "source": [
        "x_train[0]"
      ],
      "metadata": {
        "colab": {
          "base_uri": "https://localhost:8080/",
          "height": 72
        },
        "id": "Urd175eDN3ag",
        "outputId": "ff4ada38-b221-4a30-c3ba-ac7e223a7c30"
      },
      "execution_count": null,
      "outputs": [
        {
          "output_type": "execute_result",
          "data": {
            "text/plain": [
              "array([[[ 59,  62,  63],\n",
              "        [ 43,  46,  45],\n",
              "        [ 50,  48,  43],\n",
              "        ...,\n",
              "        [158, 132, 108],\n",
              "        [152, 125, 102],\n",
              "        [148, 124, 103]],\n",
              "\n",
              "       [[ 16,  20,  20],\n",
              "        [  0,   0,   0],\n",
              "        [ 18,   8,   0],\n",
              "        ...,\n",
              "        [123,  88,  55],\n",
              "        [119,  83,  50],\n",
              "        [122,  87,  57]],\n",
              "\n",
              "       [[ 25,  24,  21],\n",
              "        [ 16,   7,   0],\n",
              "        [ 49,  27,   8],\n",
              "        ...,\n",
              "        [118,  84,  50],\n",
              "        [120,  84,  50],\n",
              "        [109,  73,  42]],\n",
              "\n",
              "       ...,\n",
              "\n",
              "       [[208, 170,  96],\n",
              "        [201, 153,  34],\n",
              "        [198, 161,  26],\n",
              "        ...,\n",
              "        [160, 133,  70],\n",
              "        [ 56,  31,   7],\n",
              "        [ 53,  34,  20]],\n",
              "\n",
              "       [[180, 139,  96],\n",
              "        [173, 123,  42],\n",
              "        [186, 144,  30],\n",
              "        ...,\n",
              "        [184, 148,  94],\n",
              "        [ 97,  62,  34],\n",
              "        [ 83,  53,  34]],\n",
              "\n",
              "       [[177, 144, 116],\n",
              "        [168, 129,  94],\n",
              "        [179, 142,  87],\n",
              "        ...,\n",
              "        [216, 184, 140],\n",
              "        [151, 118,  84],\n",
              "        [123,  92,  72]]], dtype=uint8)"
            ],
            "text/html": [
              "<style>\n",
              "      .ndarray_repr .ndarray_raw_data {\n",
              "        display: none;\n",
              "      }\n",
              "      .ndarray_repr.show_array .ndarray_raw_data {\n",
              "        display: block;\n",
              "      }\n",
              "      .ndarray_repr.show_array .ndarray_image_preview {\n",
              "        display: none;\n",
              "      }\n",
              "      </style>\n",
              "      <div id=\"id-a9c0c400-e8d9-417a-b9a1-73b22822aa36\" class=\"ndarray_repr\"><pre>ndarray (32, 32, 3) <button style=\"padding: 0 2px;\">show data</button></pre><img src=\"data:image/png;base64,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\" class=\"ndarray_image_preview\" /><pre class=\"ndarray_raw_data\">array([[[ 59,  62,  63],\n",
              "        [ 43,  46,  45],\n",
              "        [ 50,  48,  43],\n",
              "        ...,\n",
              "        [158, 132, 108],\n",
              "        [152, 125, 102],\n",
              "        [148, 124, 103]],\n",
              "\n",
              "       [[ 16,  20,  20],\n",
              "        [  0,   0,   0],\n",
              "        [ 18,   8,   0],\n",
              "        ...,\n",
              "        [123,  88,  55],\n",
              "        [119,  83,  50],\n",
              "        [122,  87,  57]],\n",
              "\n",
              "       [[ 25,  24,  21],\n",
              "        [ 16,   7,   0],\n",
              "        [ 49,  27,   8],\n",
              "        ...,\n",
              "        [118,  84,  50],\n",
              "        [120,  84,  50],\n",
              "        [109,  73,  42]],\n",
              "\n",
              "       ...,\n",
              "\n",
              "       [[208, 170,  96],\n",
              "        [201, 153,  34],\n",
              "        [198, 161,  26],\n",
              "        ...,\n",
              "        [160, 133,  70],\n",
              "        [ 56,  31,   7],\n",
              "        [ 53,  34,  20]],\n",
              "\n",
              "       [[180, 139,  96],\n",
              "        [173, 123,  42],\n",
              "        [186, 144,  30],\n",
              "        ...,\n",
              "        [184, 148,  94],\n",
              "        [ 97,  62,  34],\n",
              "        [ 83,  53,  34]],\n",
              "\n",
              "       [[177, 144, 116],\n",
              "        [168, 129,  94],\n",
              "        [179, 142,  87],\n",
              "        ...,\n",
              "        [216, 184, 140],\n",
              "        [151, 118,  84],\n",
              "        [123,  92,  72]]], dtype=uint8)</pre></div><script>\n",
              "      (() => {\n",
              "      const titles = ['show data', 'hide data'];\n",
              "      let index = 0\n",
              "      document.querySelector('#id-a9c0c400-e8d9-417a-b9a1-73b22822aa36 button').onclick = (e) => {\n",
              "        document.querySelector('#id-a9c0c400-e8d9-417a-b9a1-73b22822aa36').classList.toggle('show_array');\n",
              "        index = (++index) % 2;\n",
              "        document.querySelector('#id-a9c0c400-e8d9-417a-b9a1-73b22822aa36 button').textContent = titles[index];\n",
              "        e.preventDefault();\n",
              "        e.stopPropagation();\n",
              "      }\n",
              "      })();\n",
              "    </script>"
            ]
          },
          "metadata": {},
          "execution_count": 16
        }
      ]
    },
    {
      "cell_type": "code",
      "source": [
        "x_test"
      ],
      "metadata": {
        "colab": {
          "base_uri": "https://localhost:8080/"
        },
        "id": "AEQTnLQMNF2B",
        "outputId": "481e68d1-4b97-42e4-cf37-bdc24160c9cf"
      },
      "execution_count": null,
      "outputs": [
        {
          "output_type": "execute_result",
          "data": {
            "text/plain": [
              "array([[[[158, 112,  49],\n",
              "         [159, 111,  47],\n",
              "         [165, 116,  51],\n",
              "         ...,\n",
              "         [137,  95,  36],\n",
              "         [126,  91,  36],\n",
              "         [116,  85,  33]],\n",
              "\n",
              "        [[152, 112,  51],\n",
              "         [151, 110,  40],\n",
              "         [159, 114,  45],\n",
              "         ...,\n",
              "         [136,  95,  31],\n",
              "         [125,  91,  32],\n",
              "         [119,  88,  34]],\n",
              "\n",
              "        [[151, 110,  47],\n",
              "         [151, 109,  33],\n",
              "         [158, 111,  36],\n",
              "         ...,\n",
              "         [139,  98,  34],\n",
              "         [130,  95,  34],\n",
              "         [120,  89,  33]],\n",
              "\n",
              "        ...,\n",
              "\n",
              "        [[ 68, 124, 177],\n",
              "         [ 42, 100, 148],\n",
              "         [ 31,  88, 137],\n",
              "         ...,\n",
              "         [ 38,  97, 146],\n",
              "         [ 13,  64, 108],\n",
              "         [ 40,  85, 127]],\n",
              "\n",
              "        [[ 61, 116, 168],\n",
              "         [ 49, 102, 148],\n",
              "         [ 35,  85, 132],\n",
              "         ...,\n",
              "         [ 26,  82, 130],\n",
              "         [ 29,  82, 126],\n",
              "         [ 20,  64, 107]],\n",
              "\n",
              "        [[ 54, 107, 160],\n",
              "         [ 56, 105, 149],\n",
              "         [ 45,  89, 132],\n",
              "         ...,\n",
              "         [ 24,  77, 124],\n",
              "         [ 34,  84, 129],\n",
              "         [ 21,  67, 110]]],\n",
              "\n",
              "\n",
              "       [[[235, 235, 235],\n",
              "         [231, 231, 231],\n",
              "         [232, 232, 232],\n",
              "         ...,\n",
              "         [233, 233, 233],\n",
              "         [233, 233, 233],\n",
              "         [232, 232, 232]],\n",
              "\n",
              "        [[238, 238, 238],\n",
              "         [235, 235, 235],\n",
              "         [235, 235, 235],\n",
              "         ...,\n",
              "         [236, 236, 236],\n",
              "         [236, 236, 236],\n",
              "         [235, 235, 235]],\n",
              "\n",
              "        [[237, 237, 237],\n",
              "         [234, 234, 234],\n",
              "         [234, 234, 234],\n",
              "         ...,\n",
              "         [235, 235, 235],\n",
              "         [235, 235, 235],\n",
              "         [234, 234, 234]],\n",
              "\n",
              "        ...,\n",
              "\n",
              "        [[ 87,  99,  89],\n",
              "         [ 43,  51,  37],\n",
              "         [ 19,  23,  11],\n",
              "         ...,\n",
              "         [169, 184, 179],\n",
              "         [182, 197, 193],\n",
              "         [188, 202, 201]],\n",
              "\n",
              "        [[ 82,  96,  82],\n",
              "         [ 46,  57,  36],\n",
              "         [ 36,  44,  22],\n",
              "         ...,\n",
              "         [174, 189, 183],\n",
              "         [185, 200, 196],\n",
              "         [187, 202, 200]],\n",
              "\n",
              "        [[ 85, 101,  83],\n",
              "         [ 62,  75,  48],\n",
              "         [ 58,  67,  38],\n",
              "         ...,\n",
              "         [168, 183, 178],\n",
              "         [180, 195, 191],\n",
              "         [186, 200, 199]]],\n",
              "\n",
              "\n",
              "       [[[158, 190, 222],\n",
              "         [158, 187, 218],\n",
              "         [139, 166, 194],\n",
              "         ...,\n",
              "         [228, 231, 234],\n",
              "         [237, 239, 243],\n",
              "         [238, 241, 246]],\n",
              "\n",
              "        [[170, 200, 229],\n",
              "         [172, 199, 226],\n",
              "         [151, 176, 201],\n",
              "         ...,\n",
              "         [232, 232, 236],\n",
              "         [246, 246, 250],\n",
              "         [246, 247, 251]],\n",
              "\n",
              "        [[174, 201, 225],\n",
              "         [176, 200, 222],\n",
              "         [157, 179, 199],\n",
              "         ...,\n",
              "         [230, 229, 232],\n",
              "         [250, 249, 251],\n",
              "         [245, 244, 247]],\n",
              "\n",
              "        ...,\n",
              "\n",
              "        [[ 31,  40,  45],\n",
              "         [ 30,  39,  44],\n",
              "         [ 26,  35,  40],\n",
              "         ...,\n",
              "         [ 37,  40,  46],\n",
              "         [  9,  13,  14],\n",
              "         [  4,   7,   5]],\n",
              "\n",
              "        [[ 23,  34,  39],\n",
              "         [ 27,  38,  43],\n",
              "         [ 25,  36,  41],\n",
              "         ...,\n",
              "         [ 19,  20,  24],\n",
              "         [  4,   6,   3],\n",
              "         [  5,   7,   3]],\n",
              "\n",
              "        [[ 28,  41,  47],\n",
              "         [ 30,  43,  50],\n",
              "         [ 32,  45,  52],\n",
              "         ...,\n",
              "         [  5,   6,   8],\n",
              "         [  4,   5,   3],\n",
              "         [  7,   8,   7]]],\n",
              "\n",
              "\n",
              "       ...,\n",
              "\n",
              "\n",
              "       [[[ 20,  15,  12],\n",
              "         [ 19,  14,  11],\n",
              "         [ 15,  14,  11],\n",
              "         ...,\n",
              "         [ 10,   9,   7],\n",
              "         [ 12,  11,   9],\n",
              "         [ 13,  12,  10]],\n",
              "\n",
              "        [[ 21,  16,  13],\n",
              "         [ 20,  16,  13],\n",
              "         [ 18,  17,  12],\n",
              "         ...,\n",
              "         [ 10,   9,   7],\n",
              "         [ 10,   9,   7],\n",
              "         [ 12,  11,   9]],\n",
              "\n",
              "        [[ 21,  16,  13],\n",
              "         [ 21,  17,  12],\n",
              "         [ 20,  18,  11],\n",
              "         ...,\n",
              "         [ 12,  11,   9],\n",
              "         [ 12,  11,   9],\n",
              "         [ 13,  12,  10]],\n",
              "\n",
              "        ...,\n",
              "\n",
              "        [[ 33,  25,  13],\n",
              "         [ 34,  26,  15],\n",
              "         [ 34,  26,  15],\n",
              "         ...,\n",
              "         [ 28,  25,  52],\n",
              "         [ 29,  25,  58],\n",
              "         [ 23,  20,  42]],\n",
              "\n",
              "        [[ 33,  25,  14],\n",
              "         [ 34,  26,  15],\n",
              "         [ 34,  26,  15],\n",
              "         ...,\n",
              "         [ 27,  24,  52],\n",
              "         [ 27,  24,  56],\n",
              "         [ 25,  22,  47]],\n",
              "\n",
              "        [[ 31,  23,  12],\n",
              "         [ 32,  24,  13],\n",
              "         [ 33,  25,  14],\n",
              "         ...,\n",
              "         [ 24,  23,  50],\n",
              "         [ 26,  23,  53],\n",
              "         [ 25,  20,  47]]],\n",
              "\n",
              "\n",
              "       [[[ 25,  40,  12],\n",
              "         [ 15,  36,   3],\n",
              "         [ 23,  41,  18],\n",
              "         ...,\n",
              "         [ 61,  82,  78],\n",
              "         [ 92, 113, 112],\n",
              "         [ 75,  89,  92]],\n",
              "\n",
              "        [[ 12,  25,   6],\n",
              "         [ 20,  37,   7],\n",
              "         [ 24,  36,  15],\n",
              "         ...,\n",
              "         [115, 134, 138],\n",
              "         [149, 168, 177],\n",
              "         [104, 117, 131]],\n",
              "\n",
              "        [[ 12,  25,  11],\n",
              "         [ 15,  29,   6],\n",
              "         [ 34,  40,  24],\n",
              "         ...,\n",
              "         [154, 172, 182],\n",
              "         [157, 175, 192],\n",
              "         [116, 129, 151]],\n",
              "\n",
              "        ...,\n",
              "\n",
              "        [[100, 129,  81],\n",
              "         [103, 132,  84],\n",
              "         [104, 134,  86],\n",
              "         ...,\n",
              "         [ 97, 128,  84],\n",
              "         [ 98, 126,  84],\n",
              "         [ 91, 121,  79]],\n",
              "\n",
              "        [[103, 132,  83],\n",
              "         [104, 131,  83],\n",
              "         [107, 135,  87],\n",
              "         ...,\n",
              "         [101, 132,  87],\n",
              "         [ 99, 127,  84],\n",
              "         [ 92, 121,  79]],\n",
              "\n",
              "        [[ 95, 126,  78],\n",
              "         [ 95, 123,  76],\n",
              "         [101, 128,  81],\n",
              "         ...,\n",
              "         [ 93, 124,  80],\n",
              "         [ 95, 123,  81],\n",
              "         [ 92, 120,  80]]],\n",
              "\n",
              "\n",
              "       [[[ 73,  78,  75],\n",
              "         [ 98, 103, 113],\n",
              "         [ 99, 106, 114],\n",
              "         ...,\n",
              "         [135, 150, 152],\n",
              "         [135, 149, 154],\n",
              "         [203, 215, 223]],\n",
              "\n",
              "        [[ 69,  73,  70],\n",
              "         [ 84,  89,  97],\n",
              "         [ 68,  75,  81],\n",
              "         ...,\n",
              "         [ 85,  95,  89],\n",
              "         [ 71,  82,  80],\n",
              "         [120, 133, 135]],\n",
              "\n",
              "        [[ 69,  73,  70],\n",
              "         [ 90,  95, 100],\n",
              "         [ 62,  71,  74],\n",
              "         ...,\n",
              "         [ 74,  81,  70],\n",
              "         [ 53,  62,  54],\n",
              "         [ 62,  74,  69]],\n",
              "\n",
              "        ...,\n",
              "\n",
              "        [[123, 128,  96],\n",
              "         [132, 132, 102],\n",
              "         [129, 128, 100],\n",
              "         ...,\n",
              "         [108, 107,  88],\n",
              "         [ 62,  60,  55],\n",
              "         [ 27,  27,  28]],\n",
              "\n",
              "        [[115, 121,  91],\n",
              "         [123, 124,  95],\n",
              "         [129, 126,  99],\n",
              "         ...,\n",
              "         [115, 116,  94],\n",
              "         [ 66,  65,  59],\n",
              "         [ 27,  27,  27]],\n",
              "\n",
              "        [[116, 120,  90],\n",
              "         [121, 122,  94],\n",
              "         [129, 128, 101],\n",
              "         ...,\n",
              "         [116, 115,  94],\n",
              "         [ 68,  65,  58],\n",
              "         [ 27,  26,  26]]]], dtype=uint8)"
            ]
          },
          "metadata": {},
          "execution_count": 17
        }
      ]
    },
    {
      "cell_type": "code",
      "source": [
        "y_train[0:100]"
      ],
      "metadata": {
        "colab": {
          "base_uri": "https://localhost:8080/"
        },
        "id": "cCUSAcnEOKNJ",
        "outputId": "7fea4815-6b9d-4c0f-b684-3bdac1d746a1"
      },
      "execution_count": null,
      "outputs": [
        {
          "output_type": "execute_result",
          "data": {
            "text/plain": [
              "array([[6],\n",
              "       [9],\n",
              "       [9],\n",
              "       [4],\n",
              "       [1],\n",
              "       [1],\n",
              "       [2],\n",
              "       [7],\n",
              "       [8],\n",
              "       [3],\n",
              "       [4],\n",
              "       [7],\n",
              "       [7],\n",
              "       [2],\n",
              "       [9],\n",
              "       [9],\n",
              "       [9],\n",
              "       [3],\n",
              "       [2],\n",
              "       [6],\n",
              "       [4],\n",
              "       [3],\n",
              "       [6],\n",
              "       [6],\n",
              "       [2],\n",
              "       [6],\n",
              "       [3],\n",
              "       [5],\n",
              "       [4],\n",
              "       [0],\n",
              "       [0],\n",
              "       [9],\n",
              "       [1],\n",
              "       [3],\n",
              "       [4],\n",
              "       [0],\n",
              "       [3],\n",
              "       [7],\n",
              "       [3],\n",
              "       [3],\n",
              "       [5],\n",
              "       [2],\n",
              "       [2],\n",
              "       [7],\n",
              "       [1],\n",
              "       [1],\n",
              "       [1],\n",
              "       [2],\n",
              "       [2],\n",
              "       [0],\n",
              "       [9],\n",
              "       [5],\n",
              "       [7],\n",
              "       [9],\n",
              "       [2],\n",
              "       [2],\n",
              "       [5],\n",
              "       [2],\n",
              "       [4],\n",
              "       [3],\n",
              "       [1],\n",
              "       [1],\n",
              "       [8],\n",
              "       [2],\n",
              "       [1],\n",
              "       [1],\n",
              "       [4],\n",
              "       [9],\n",
              "       [7],\n",
              "       [8],\n",
              "       [5],\n",
              "       [9],\n",
              "       [6],\n",
              "       [7],\n",
              "       [3],\n",
              "       [1],\n",
              "       [9],\n",
              "       [0],\n",
              "       [3],\n",
              "       [1],\n",
              "       [3],\n",
              "       [5],\n",
              "       [4],\n",
              "       [5],\n",
              "       [7],\n",
              "       [7],\n",
              "       [4],\n",
              "       [7],\n",
              "       [9],\n",
              "       [4],\n",
              "       [2],\n",
              "       [3],\n",
              "       [8],\n",
              "       [0],\n",
              "       [1],\n",
              "       [6],\n",
              "       [1],\n",
              "       [1],\n",
              "       [4],\n",
              "       [1]], dtype=uint8)"
            ]
          },
          "metadata": {},
          "execution_count": 19
        }
      ]
    },
    {
      "cell_type": "markdown",
      "source": [
        "Scales pixel values from 0–255 to 0–1 (helps the model train better).  "
      ],
      "metadata": {
        "id": "EiJYA57BNTIw"
      }
    },
    {
      "cell_type": "code",
      "source": [
        "x_train = x_train.astype(\"float32\") / 255.0\n",
        "x_test  = x_test.astype(\"float32\") / 255.0"
      ],
      "metadata": {
        "id": "J1A62mu5OT5e"
      },
      "execution_count": null,
      "outputs": []
    },
    {
      "cell_type": "code",
      "source": [
        "x_test[0:2]"
      ],
      "metadata": {
        "colab": {
          "base_uri": "https://localhost:8080/"
        },
        "id": "zCnUyK7ROXl2",
        "outputId": "7c8d890b-16f5-4552-8e85-5693b9c77f06"
      },
      "execution_count": null,
      "outputs": [
        {
          "output_type": "execute_result",
          "data": {
            "text/plain": [
              "array([[[[0.61960787, 0.4392157 , 0.19215687],\n",
              "         [0.62352943, 0.43529412, 0.18431373],\n",
              "         [0.64705884, 0.45490196, 0.2       ],\n",
              "         ...,\n",
              "         [0.5372549 , 0.37254903, 0.14117648],\n",
              "         [0.49411765, 0.35686275, 0.14117648],\n",
              "         [0.45490196, 0.33333334, 0.12941177]],\n",
              "\n",
              "        [[0.59607846, 0.4392157 , 0.2       ],\n",
              "         [0.5921569 , 0.43137255, 0.15686275],\n",
              "         [0.62352943, 0.44705883, 0.1764706 ],\n",
              "         ...,\n",
              "         [0.53333336, 0.37254903, 0.12156863],\n",
              "         [0.49019608, 0.35686275, 0.1254902 ],\n",
              "         [0.46666667, 0.34509805, 0.13333334]],\n",
              "\n",
              "        [[0.5921569 , 0.43137255, 0.18431373],\n",
              "         [0.5921569 , 0.42745098, 0.12941177],\n",
              "         [0.61960787, 0.43529412, 0.14117648],\n",
              "         ...,\n",
              "         [0.54509807, 0.38431373, 0.13333334],\n",
              "         [0.50980395, 0.37254903, 0.13333334],\n",
              "         [0.47058824, 0.34901962, 0.12941177]],\n",
              "\n",
              "        ...,\n",
              "\n",
              "        [[0.26666668, 0.4862745 , 0.69411767],\n",
              "         [0.16470589, 0.39215687, 0.5803922 ],\n",
              "         [0.12156863, 0.34509805, 0.5372549 ],\n",
              "         ...,\n",
              "         [0.14901961, 0.38039216, 0.57254905],\n",
              "         [0.05098039, 0.2509804 , 0.42352942],\n",
              "         [0.15686275, 0.33333334, 0.49803922]],\n",
              "\n",
              "        [[0.23921569, 0.45490196, 0.65882355],\n",
              "         [0.19215687, 0.4       , 0.5803922 ],\n",
              "         [0.13725491, 0.33333334, 0.5176471 ],\n",
              "         ...,\n",
              "         [0.10196079, 0.32156864, 0.50980395],\n",
              "         [0.11372549, 0.32156864, 0.49411765],\n",
              "         [0.07843138, 0.2509804 , 0.41960785]],\n",
              "\n",
              "        [[0.21176471, 0.41960785, 0.627451  ],\n",
              "         [0.21960784, 0.4117647 , 0.58431375],\n",
              "         [0.1764706 , 0.34901962, 0.5176471 ],\n",
              "         ...,\n",
              "         [0.09411765, 0.3019608 , 0.4862745 ],\n",
              "         [0.13333334, 0.32941177, 0.5058824 ],\n",
              "         [0.08235294, 0.2627451 , 0.43137255]]],\n",
              "\n",
              "\n",
              "       [[[0.92156863, 0.92156863, 0.92156863],\n",
              "         [0.90588236, 0.90588236, 0.90588236],\n",
              "         [0.9098039 , 0.9098039 , 0.9098039 ],\n",
              "         ...,\n",
              "         [0.9137255 , 0.9137255 , 0.9137255 ],\n",
              "         [0.9137255 , 0.9137255 , 0.9137255 ],\n",
              "         [0.9098039 , 0.9098039 , 0.9098039 ]],\n",
              "\n",
              "        [[0.93333334, 0.93333334, 0.93333334],\n",
              "         [0.92156863, 0.92156863, 0.92156863],\n",
              "         [0.92156863, 0.92156863, 0.92156863],\n",
              "         ...,\n",
              "         [0.9254902 , 0.9254902 , 0.9254902 ],\n",
              "         [0.9254902 , 0.9254902 , 0.9254902 ],\n",
              "         [0.92156863, 0.92156863, 0.92156863]],\n",
              "\n",
              "        [[0.92941177, 0.92941177, 0.92941177],\n",
              "         [0.91764706, 0.91764706, 0.91764706],\n",
              "         [0.91764706, 0.91764706, 0.91764706],\n",
              "         ...,\n",
              "         [0.92156863, 0.92156863, 0.92156863],\n",
              "         [0.92156863, 0.92156863, 0.92156863],\n",
              "         [0.91764706, 0.91764706, 0.91764706]],\n",
              "\n",
              "        ...,\n",
              "\n",
              "        [[0.34117648, 0.3882353 , 0.34901962],\n",
              "         [0.16862746, 0.2       , 0.14509805],\n",
              "         [0.07450981, 0.09019608, 0.04313726],\n",
              "         ...,\n",
              "         [0.6627451 , 0.72156864, 0.7019608 ],\n",
              "         [0.7137255 , 0.77254903, 0.75686276],\n",
              "         [0.7372549 , 0.7921569 , 0.7882353 ]],\n",
              "\n",
              "        [[0.32156864, 0.3764706 , 0.32156864],\n",
              "         [0.18039216, 0.22352941, 0.14117648],\n",
              "         [0.14117648, 0.17254902, 0.08627451],\n",
              "         ...,\n",
              "         [0.68235296, 0.7411765 , 0.7176471 ],\n",
              "         [0.7254902 , 0.78431374, 0.76862746],\n",
              "         [0.73333335, 0.7921569 , 0.78431374]],\n",
              "\n",
              "        [[0.33333334, 0.39607844, 0.3254902 ],\n",
              "         [0.24313726, 0.29411766, 0.1882353 ],\n",
              "         [0.22745098, 0.2627451 , 0.14901961],\n",
              "         ...,\n",
              "         [0.65882355, 0.7176471 , 0.69803923],\n",
              "         [0.7058824 , 0.7647059 , 0.7490196 ],\n",
              "         [0.7294118 , 0.78431374, 0.78039217]]]], dtype=float32)"
            ]
          },
          "metadata": {},
          "execution_count": 21
        }
      ]
    },
    {
      "cell_type": "markdown",
      "source": [
        "Build the CNN\n",
        "\n",
        "• Conv2D(32,3) blocks: learn small 3×3 filters to detect edges/shapes; 32 filters\n",
        "first, then 64 deeper.\n",
        "\n",
        "• ReLU: keeps positives, zeroes negatives → faster learning.\n",
        "\n",
        "• MaxPooling2D: downsamples (keeps strongest features, reduces size/compute).\n",
        "\n",
        "• Dropout: randomly disables a fraction of neurons → reduces overfitting.\n",
        "\n",
        "• Flatten: turns feature maps into a 1D vector.\n",
        "\n",
        "• Dense(256, relu): learns combinations of features.\n",
        "\n",
        "• Dense(classes, softmax): outputs 10 probabilities that sum to 1 (one per class)."
      ],
      "metadata": {
        "id": "GFvF-TrrO7Bq"
      }
    },
    {
      "cell_type": "code",
      "source": [
        "# --- Model ---\n",
        "def make_cnn(input_shape=(32, 32, 3), classes=10):\n",
        "    model = models.Sequential([\n",
        "        layers.Input(shape=input_shape),\n",
        "\n",
        "        layers.Conv2D(32, 3, padding=\"same\", activation=\"relu\"),\n",
        "        layers.MaxPooling2D(),\n",
        "        layers.Dropout(0.25),\n",
        "\n",
        "        layers.Conv2D(64, 3, padding=\"same\", activation=\"relu\"),\n",
        "        layers.MaxPooling2D(),\n",
        "        layers.Dropout(0.25),\n",
        "\n",
        "        layers.Flatten(),\n",
        "        layers.Dense(256, activation=\"relu\"),\n",
        "        layers.Dropout(0.5),\n",
        "        layers.Dense(classes, activation=\"softmax\"),\n",
        "    ])\n",
        "    return model\n",
        "\n",
        "model = make_cnn()\n",
        "model.summary()"
      ],
      "metadata": {
        "colab": {
          "base_uri": "https://localhost:8080/",
          "height": 449
        },
        "id": "SJ0teEokPSgd",
        "outputId": "c6646ebd-2428-4a7c-ddd7-32d84fd41eb4"
      },
      "execution_count": null,
      "outputs": [
        {
          "output_type": "display_data",
          "data": {
            "text/plain": [
              "\u001b[1mModel: \"sequential_1\"\u001b[0m\n"
            ],
            "text/html": [
              "<pre style=\"white-space:pre;overflow-x:auto;line-height:normal;font-family:Menlo,'DejaVu Sans Mono',consolas,'Courier New',monospace\"><span style=\"font-weight: bold\">Model: \"sequential_1\"</span>\n",
              "</pre>\n"
            ]
          },
          "metadata": {}
        },
        {
          "output_type": "display_data",
          "data": {
            "text/plain": [
              "┏━━━━━━━━━━━━━━━━━━━━━━━━━━━━━━━━━┳━━━━━━━━━━━━━━━━━━━━━━━━┳━━━━━━━━━━━━━━━┓\n",
              "┃\u001b[1m \u001b[0m\u001b[1mLayer (type)                   \u001b[0m\u001b[1m \u001b[0m┃\u001b[1m \u001b[0m\u001b[1mOutput Shape          \u001b[0m\u001b[1m \u001b[0m┃\u001b[1m \u001b[0m\u001b[1m      Param #\u001b[0m\u001b[1m \u001b[0m┃\n",
              "┡━━━━━━━━━━━━━━━━━━━━━━━━━━━━━━━━━╇━━━━━━━━━━━━━━━━━━━━━━━━╇━━━━━━━━━━━━━━━┩\n",
              "│ conv2d_4 (\u001b[38;5;33mConv2D\u001b[0m)               │ (\u001b[38;5;45mNone\u001b[0m, \u001b[38;5;34m32\u001b[0m, \u001b[38;5;34m32\u001b[0m, \u001b[38;5;34m32\u001b[0m)     │           \u001b[38;5;34m896\u001b[0m │\n",
              "├─────────────────────────────────┼────────────────────────┼───────────────┤\n",
              "│ max_pooling2d_2 (\u001b[38;5;33mMaxPooling2D\u001b[0m)  │ (\u001b[38;5;45mNone\u001b[0m, \u001b[38;5;34m16\u001b[0m, \u001b[38;5;34m16\u001b[0m, \u001b[38;5;34m32\u001b[0m)     │             \u001b[38;5;34m0\u001b[0m │\n",
              "├─────────────────────────────────┼────────────────────────┼───────────────┤\n",
              "│ dropout_3 (\u001b[38;5;33mDropout\u001b[0m)             │ (\u001b[38;5;45mNone\u001b[0m, \u001b[38;5;34m16\u001b[0m, \u001b[38;5;34m16\u001b[0m, \u001b[38;5;34m32\u001b[0m)     │             \u001b[38;5;34m0\u001b[0m │\n",
              "├─────────────────────────────────┼────────────────────────┼───────────────┤\n",
              "│ conv2d_5 (\u001b[38;5;33mConv2D\u001b[0m)               │ (\u001b[38;5;45mNone\u001b[0m, \u001b[38;5;34m16\u001b[0m, \u001b[38;5;34m16\u001b[0m, \u001b[38;5;34m64\u001b[0m)     │        \u001b[38;5;34m18,496\u001b[0m │\n",
              "├─────────────────────────────────┼────────────────────────┼───────────────┤\n",
              "│ max_pooling2d_3 (\u001b[38;5;33mMaxPooling2D\u001b[0m)  │ (\u001b[38;5;45mNone\u001b[0m, \u001b[38;5;34m8\u001b[0m, \u001b[38;5;34m8\u001b[0m, \u001b[38;5;34m64\u001b[0m)       │             \u001b[38;5;34m0\u001b[0m │\n",
              "├─────────────────────────────────┼────────────────────────┼───────────────┤\n",
              "│ dropout_4 (\u001b[38;5;33mDropout\u001b[0m)             │ (\u001b[38;5;45mNone\u001b[0m, \u001b[38;5;34m8\u001b[0m, \u001b[38;5;34m8\u001b[0m, \u001b[38;5;34m64\u001b[0m)       │             \u001b[38;5;34m0\u001b[0m │\n",
              "├─────────────────────────────────┼────────────────────────┼───────────────┤\n",
              "│ flatten_1 (\u001b[38;5;33mFlatten\u001b[0m)             │ (\u001b[38;5;45mNone\u001b[0m, \u001b[38;5;34m4096\u001b[0m)           │             \u001b[38;5;34m0\u001b[0m │\n",
              "├─────────────────────────────────┼────────────────────────┼───────────────┤\n",
              "│ dense_2 (\u001b[38;5;33mDense\u001b[0m)                 │ (\u001b[38;5;45mNone\u001b[0m, \u001b[38;5;34m256\u001b[0m)            │     \u001b[38;5;34m1,048,832\u001b[0m │\n",
              "├─────────────────────────────────┼────────────────────────┼───────────────┤\n",
              "│ dropout_5 (\u001b[38;5;33mDropout\u001b[0m)             │ (\u001b[38;5;45mNone\u001b[0m, \u001b[38;5;34m256\u001b[0m)            │             \u001b[38;5;34m0\u001b[0m │\n",
              "├─────────────────────────────────┼────────────────────────┼───────────────┤\n",
              "│ dense_3 (\u001b[38;5;33mDense\u001b[0m)                 │ (\u001b[38;5;45mNone\u001b[0m, \u001b[38;5;34m10\u001b[0m)             │         \u001b[38;5;34m2,570\u001b[0m │\n",
              "└─────────────────────────────────┴────────────────────────┴───────────────┘\n"
            ],
            "text/html": [
              "<pre style=\"white-space:pre;overflow-x:auto;line-height:normal;font-family:Menlo,'DejaVu Sans Mono',consolas,'Courier New',monospace\">┏━━━━━━━━━━━━━━━━━━━━━━━━━━━━━━━━━┳━━━━━━━━━━━━━━━━━━━━━━━━┳━━━━━━━━━━━━━━━┓\n",
              "┃<span style=\"font-weight: bold\"> Layer (type)                    </span>┃<span style=\"font-weight: bold\"> Output Shape           </span>┃<span style=\"font-weight: bold\">       Param # </span>┃\n",
              "┡━━━━━━━━━━━━━━━━━━━━━━━━━━━━━━━━━╇━━━━━━━━━━━━━━━━━━━━━━━━╇━━━━━━━━━━━━━━━┩\n",
              "│ conv2d_4 (<span style=\"color: #0087ff; text-decoration-color: #0087ff\">Conv2D</span>)               │ (<span style=\"color: #00d7ff; text-decoration-color: #00d7ff\">None</span>, <span style=\"color: #00af00; text-decoration-color: #00af00\">32</span>, <span style=\"color: #00af00; text-decoration-color: #00af00\">32</span>, <span style=\"color: #00af00; text-decoration-color: #00af00\">32</span>)     │           <span style=\"color: #00af00; text-decoration-color: #00af00\">896</span> │\n",
              "├─────────────────────────────────┼────────────────────────┼───────────────┤\n",
              "│ max_pooling2d_2 (<span style=\"color: #0087ff; text-decoration-color: #0087ff\">MaxPooling2D</span>)  │ (<span style=\"color: #00d7ff; text-decoration-color: #00d7ff\">None</span>, <span style=\"color: #00af00; text-decoration-color: #00af00\">16</span>, <span style=\"color: #00af00; text-decoration-color: #00af00\">16</span>, <span style=\"color: #00af00; text-decoration-color: #00af00\">32</span>)     │             <span style=\"color: #00af00; text-decoration-color: #00af00\">0</span> │\n",
              "├─────────────────────────────────┼────────────────────────┼───────────────┤\n",
              "│ dropout_3 (<span style=\"color: #0087ff; text-decoration-color: #0087ff\">Dropout</span>)             │ (<span style=\"color: #00d7ff; text-decoration-color: #00d7ff\">None</span>, <span style=\"color: #00af00; text-decoration-color: #00af00\">16</span>, <span style=\"color: #00af00; text-decoration-color: #00af00\">16</span>, <span style=\"color: #00af00; text-decoration-color: #00af00\">32</span>)     │             <span style=\"color: #00af00; text-decoration-color: #00af00\">0</span> │\n",
              "├─────────────────────────────────┼────────────────────────┼───────────────┤\n",
              "│ conv2d_5 (<span style=\"color: #0087ff; text-decoration-color: #0087ff\">Conv2D</span>)               │ (<span style=\"color: #00d7ff; text-decoration-color: #00d7ff\">None</span>, <span style=\"color: #00af00; text-decoration-color: #00af00\">16</span>, <span style=\"color: #00af00; text-decoration-color: #00af00\">16</span>, <span style=\"color: #00af00; text-decoration-color: #00af00\">64</span>)     │        <span style=\"color: #00af00; text-decoration-color: #00af00\">18,496</span> │\n",
              "├─────────────────────────────────┼────────────────────────┼───────────────┤\n",
              "│ max_pooling2d_3 (<span style=\"color: #0087ff; text-decoration-color: #0087ff\">MaxPooling2D</span>)  │ (<span style=\"color: #00d7ff; text-decoration-color: #00d7ff\">None</span>, <span style=\"color: #00af00; text-decoration-color: #00af00\">8</span>, <span style=\"color: #00af00; text-decoration-color: #00af00\">8</span>, <span style=\"color: #00af00; text-decoration-color: #00af00\">64</span>)       │             <span style=\"color: #00af00; text-decoration-color: #00af00\">0</span> │\n",
              "├─────────────────────────────────┼────────────────────────┼───────────────┤\n",
              "│ dropout_4 (<span style=\"color: #0087ff; text-decoration-color: #0087ff\">Dropout</span>)             │ (<span style=\"color: #00d7ff; text-decoration-color: #00d7ff\">None</span>, <span style=\"color: #00af00; text-decoration-color: #00af00\">8</span>, <span style=\"color: #00af00; text-decoration-color: #00af00\">8</span>, <span style=\"color: #00af00; text-decoration-color: #00af00\">64</span>)       │             <span style=\"color: #00af00; text-decoration-color: #00af00\">0</span> │\n",
              "├─────────────────────────────────┼────────────────────────┼───────────────┤\n",
              "│ flatten_1 (<span style=\"color: #0087ff; text-decoration-color: #0087ff\">Flatten</span>)             │ (<span style=\"color: #00d7ff; text-decoration-color: #00d7ff\">None</span>, <span style=\"color: #00af00; text-decoration-color: #00af00\">4096</span>)           │             <span style=\"color: #00af00; text-decoration-color: #00af00\">0</span> │\n",
              "├─────────────────────────────────┼────────────────────────┼───────────────┤\n",
              "│ dense_2 (<span style=\"color: #0087ff; text-decoration-color: #0087ff\">Dense</span>)                 │ (<span style=\"color: #00d7ff; text-decoration-color: #00d7ff\">None</span>, <span style=\"color: #00af00; text-decoration-color: #00af00\">256</span>)            │     <span style=\"color: #00af00; text-decoration-color: #00af00\">1,048,832</span> │\n",
              "├─────────────────────────────────┼────────────────────────┼───────────────┤\n",
              "│ dropout_5 (<span style=\"color: #0087ff; text-decoration-color: #0087ff\">Dropout</span>)             │ (<span style=\"color: #00d7ff; text-decoration-color: #00d7ff\">None</span>, <span style=\"color: #00af00; text-decoration-color: #00af00\">256</span>)            │             <span style=\"color: #00af00; text-decoration-color: #00af00\">0</span> │\n",
              "├─────────────────────────────────┼────────────────────────┼───────────────┤\n",
              "│ dense_3 (<span style=\"color: #0087ff; text-decoration-color: #0087ff\">Dense</span>)                 │ (<span style=\"color: #00d7ff; text-decoration-color: #00d7ff\">None</span>, <span style=\"color: #00af00; text-decoration-color: #00af00\">10</span>)             │         <span style=\"color: #00af00; text-decoration-color: #00af00\">2,570</span> │\n",
              "└─────────────────────────────────┴────────────────────────┴───────────────┘\n",
              "</pre>\n"
            ]
          },
          "metadata": {}
        },
        {
          "output_type": "display_data",
          "data": {
            "text/plain": [
              "\u001b[1m Total params: \u001b[0m\u001b[38;5;34m1,070,794\u001b[0m (4.08 MB)\n"
            ],
            "text/html": [
              "<pre style=\"white-space:pre;overflow-x:auto;line-height:normal;font-family:Menlo,'DejaVu Sans Mono',consolas,'Courier New',monospace\"><span style=\"font-weight: bold\"> Total params: </span><span style=\"color: #00af00; text-decoration-color: #00af00\">1,070,794</span> (4.08 MB)\n",
              "</pre>\n"
            ]
          },
          "metadata": {}
        },
        {
          "output_type": "display_data",
          "data": {
            "text/plain": [
              "\u001b[1m Trainable params: \u001b[0m\u001b[38;5;34m1,070,794\u001b[0m (4.08 MB)\n"
            ],
            "text/html": [
              "<pre style=\"white-space:pre;overflow-x:auto;line-height:normal;font-family:Menlo,'DejaVu Sans Mono',consolas,'Courier New',monospace\"><span style=\"font-weight: bold\"> Trainable params: </span><span style=\"color: #00af00; text-decoration-color: #00af00\">1,070,794</span> (4.08 MB)\n",
              "</pre>\n"
            ]
          },
          "metadata": {}
        },
        {
          "output_type": "display_data",
          "data": {
            "text/plain": [
              "\u001b[1m Non-trainable params: \u001b[0m\u001b[38;5;34m0\u001b[0m (0.00 B)\n"
            ],
            "text/html": [
              "<pre style=\"white-space:pre;overflow-x:auto;line-height:normal;font-family:Menlo,'DejaVu Sans Mono',consolas,'Courier New',monospace\"><span style=\"font-weight: bold\"> Non-trainable params: </span><span style=\"color: #00af00; text-decoration-color: #00af00\">0</span> (0.00 B)\n",
              "</pre>\n"
            ]
          },
          "metadata": {}
        }
      ]
    },
    {
      "cell_type": "markdown",
      "source": [
        "Compile  \n",
        "\n",
        "• Adam optimizer with learning rate 0.001 → good default.\n",
        "\n",
        "• sparse_categorical_crossentropy → use this when labels are integers (not one\n",
        "hot).\n",
        "\n",
        "• Track accuracy during training."
      ],
      "metadata": {
        "id": "ViZWo_ejRnIc"
      }
    },
    {
      "cell_type": "code",
      "source": [
        "# --- Compile ---\n",
        "model.compile( optimizer=tf.keras.optimizers.Adam(learning_rate=1e-3),\n",
        "loss=\"sparse_categorical_crossentropy\",metrics=[\"accuracy\"])"
      ],
      "metadata": {
        "id": "I5WZclEaRst7"
      },
      "execution_count": null,
      "outputs": []
    },
    {
      "cell_type": "markdown",
      "source": [
        "Train the model\n",
        "\n",
        "• model.fit: the training function in Keras.\n",
        "\n",
        "• x_train, y_train:  the images and their correct labels.\n",
        "\n",
        "• validation_split=0.1: keeps aside 10% of the training set to test the model after\n",
        "each epoch (to see if it’s overfitting).\n",
        "\n",
        "• epochs=15: the dataset is passed through the network 15 times.\n",
        "\n",
        "• batch_size=64:  instead of training one image at a time, the model processes 64\n",
        "images at once before updating weights.\n",
        "\n",
        "• verbose=1:  prints progress for each epoch."
      ],
      "metadata": {
        "id": "WMr4vGTxSK0d"
      }
    },
    {
      "cell_type": "code",
      "source": [
        "# --- Train ---\n",
        "history = model.fit(\n",
        "x_train, y_train,\n",
        "validation_split=0.1,\n",
        "epochs=15,\n",
        "batch_size=64,\n",
        "verbose=1\n",
        ")"
      ],
      "metadata": {
        "colab": {
          "base_uri": "https://localhost:8080/"
        },
        "id": "Alofu4WFSVsS",
        "outputId": "fa6413b0-2307-4bed-c93a-97c4970371f4"
      },
      "execution_count": null,
      "outputs": [
        {
          "output_type": "stream",
          "name": "stdout",
          "text": [
            "Epoch 1/15\n",
            "\u001b[1m704/704\u001b[0m \u001b[32m━━━━━━━━━━━━━━━━━━━━\u001b[0m\u001b[37m\u001b[0m \u001b[1m51s\u001b[0m 70ms/step - accuracy: 0.3040 - loss: 1.8780 - val_accuracy: 0.5274 - val_loss: 1.3232\n",
            "Epoch 2/15\n",
            "\u001b[1m704/704\u001b[0m \u001b[32m━━━━━━━━━━━━━━━━━━━━\u001b[0m\u001b[37m\u001b[0m \u001b[1m82s\u001b[0m 70ms/step - accuracy: 0.5130 - loss: 1.3585 - val_accuracy: 0.6114 - val_loss: 1.1124\n",
            "Epoch 3/15\n",
            "\u001b[1m704/704\u001b[0m \u001b[32m━━━━━━━━━━━━━━━━━━━━\u001b[0m\u001b[37m\u001b[0m \u001b[1m82s\u001b[0m 69ms/step - accuracy: 0.5713 - loss: 1.1973 - val_accuracy: 0.6260 - val_loss: 1.0689\n",
            "Epoch 4/15\n",
            "\u001b[1m704/704\u001b[0m \u001b[32m━━━━━━━━━━━━━━━━━━━━\u001b[0m\u001b[37m\u001b[0m \u001b[1m81s\u001b[0m 69ms/step - accuracy: 0.6045 - loss: 1.1201 - val_accuracy: 0.6516 - val_loss: 0.9940\n",
            "Epoch 5/15\n",
            "\u001b[1m704/704\u001b[0m \u001b[32m━━━━━━━━━━━━━━━━━━━━\u001b[0m\u001b[37m\u001b[0m \u001b[1m82s\u001b[0m 69ms/step - accuracy: 0.6299 - loss: 1.0523 - val_accuracy: 0.6880 - val_loss: 0.9151\n",
            "Epoch 6/15\n",
            "\u001b[1m704/704\u001b[0m \u001b[32m━━━━━━━━━━━━━━━━━━━━\u001b[0m\u001b[37m\u001b[0m \u001b[1m81s\u001b[0m 67ms/step - accuracy: 0.6481 - loss: 0.9835 - val_accuracy: 0.7010 - val_loss: 0.8697\n",
            "Epoch 7/15\n",
            "\u001b[1m704/704\u001b[0m \u001b[32m━━━━━━━━━━━━━━━━━━━━\u001b[0m\u001b[37m\u001b[0m \u001b[1m84s\u001b[0m 70ms/step - accuracy: 0.6638 - loss: 0.9480 - val_accuracy: 0.7136 - val_loss: 0.8542\n",
            "Epoch 8/15\n",
            "\u001b[1m704/704\u001b[0m \u001b[32m━━━━━━━━━━━━━━━━━━━━\u001b[0m\u001b[37m\u001b[0m \u001b[1m81s\u001b[0m 69ms/step - accuracy: 0.6788 - loss: 0.9059 - val_accuracy: 0.7162 - val_loss: 0.8319\n",
            "Epoch 9/15\n",
            "\u001b[1m704/704\u001b[0m \u001b[32m━━━━━━━━━━━━━━━━━━━━\u001b[0m\u001b[37m\u001b[0m \u001b[1m82s\u001b[0m 69ms/step - accuracy: 0.6821 - loss: 0.8965 - val_accuracy: 0.7234 - val_loss: 0.8196\n",
            "Epoch 10/15\n",
            "\u001b[1m704/704\u001b[0m \u001b[32m━━━━━━━━━━━━━━━━━━━━\u001b[0m\u001b[37m\u001b[0m \u001b[1m81s\u001b[0m 67ms/step - accuracy: 0.6951 - loss: 0.8584 - val_accuracy: 0.7188 - val_loss: 0.8154\n",
            "Epoch 11/15\n",
            "\u001b[1m704/704\u001b[0m \u001b[32m━━━━━━━━━━━━━━━━━━━━\u001b[0m\u001b[37m\u001b[0m \u001b[1m83s\u001b[0m 68ms/step - accuracy: 0.7046 - loss: 0.8265 - val_accuracy: 0.7276 - val_loss: 0.7832\n",
            "Epoch 12/15\n",
            "\u001b[1m704/704\u001b[0m \u001b[32m━━━━━━━━━━━━━━━━━━━━\u001b[0m\u001b[37m\u001b[0m \u001b[1m49s\u001b[0m 69ms/step - accuracy: 0.7107 - loss: 0.8195 - val_accuracy: 0.7326 - val_loss: 0.7791\n",
            "Epoch 13/15\n",
            "\u001b[1m704/704\u001b[0m \u001b[32m━━━━━━━━━━━━━━━━━━━━\u001b[0m\u001b[37m\u001b[0m \u001b[1m81s\u001b[0m 69ms/step - accuracy: 0.7185 - loss: 0.7928 - val_accuracy: 0.7360 - val_loss: 0.7703\n",
            "Epoch 14/15\n",
            "\u001b[1m704/704\u001b[0m \u001b[32m━━━━━━━━━━━━━━━━━━━━\u001b[0m\u001b[37m\u001b[0m \u001b[1m82s\u001b[0m 68ms/step - accuracy: 0.7271 - loss: 0.7696 - val_accuracy: 0.7420 - val_loss: 0.7596\n",
            "Epoch 15/15\n",
            "\u001b[1m704/704\u001b[0m \u001b[32m━━━━━━━━━━━━━━━━━━━━\u001b[0m\u001b[37m\u001b[0m \u001b[1m82s\u001b[0m 68ms/step - accuracy: 0.7287 - loss: 0.7588 - val_accuracy: 0.7500 - val_loss: 0.7449\n"
          ]
        }
      ]
    },
    {
      "cell_type": "code",
      "source": [
        "# --- Evaluate ---\n",
        "test_loss, test_acc = model.evaluate(x_test, y_test, verbose=0)\n",
        "print(f\"Test accuracy: {test_acc:.4f} | Test loss: {test_loss:.4f}\")"
      ],
      "metadata": {
        "colab": {
          "base_uri": "https://localhost:8080/"
        },
        "id": "B1h_kJ9yW5Gy",
        "outputId": "022b6a46-58f9-47a1-ae59-390e36bf8701"
      },
      "execution_count": null,
      "outputs": [
        {
          "output_type": "stream",
          "name": "stdout",
          "text": [
            "Test accuracy: 0.7301 | Test loss: 0.7712\n"
          ]
        }
      ]
    },
    {
      "cell_type": "code",
      "source": [
        "# --- Plot learning curves ---\n",
        "plt.figure(figsize=(6,4))\n",
        "plt.plot(history.history[\"accuracy\"], label=\"train acc\")\n",
        "plt.plot(history.history[\"val_accuracy\"], label=\"val acc\")\n",
        "plt.xlabel(\"Epoch\"); plt.ylabel(\"Accuracy\"); plt.legend();\n",
        "plt.title(\"Accuracy\")\n",
        "plt.figure(figsize=(6,4))\n",
        "plt.plot(history.history[\"loss\"], label=\"train loss\")\n",
        "plt.plot(history.history[\"val_loss\"], label=\"val loss\")\n",
        "plt.xlabel(\"Epoch\"); plt.ylabel(\"Loss\"); plt.legend();\n",
        "plt.title(\"Loss\")\n",
        "plt.show()"
      ],
      "metadata": {
        "colab": {
          "base_uri": "https://localhost:8080/",
          "height": 803
        },
        "id": "MMIxNpFVXJMT",
        "outputId": "5830d2d7-6420-4103-ee53-7bc148b1ff54"
      },
      "execution_count": null,
      "outputs": [
        {
          "output_type": "display_data",
          "data": {
            "text/plain": [
              "<Figure size 600x400 with 1 Axes>"
            ],
            "image/png": "[encoded data removed]"
          },
          "metadata": {}
        },
        {
          "output_type": "display_data",
          "data": {
            "text/plain": [
              "<Figure size 600x400 with 1 Axes>"
            ],
            "image/png": "[encoded data removed]"
          },
          "metadata": {}
        }
      ]
    },
    {
      "cell_type": "code",
      "source": [
        "# --- Predict a few samples ---\n",
        "pred_probs = model.predict(x_test[:8])\n",
        "7\n",
        "pred_labels = pred_probs.argmax(axis=1).flatten()\n",
        "print(\"Predicted labels:\", pred_labels)\n",
        "print(\"True labels     :\", y_test[:8].flatten())"
      ],
      "metadata": {
        "id": "7GZ6zcaqXOZ0",
        "outputId": "105bc010-d9c7-4a74-a43b-045c8f11c313",
        "colab": {
          "base_uri": "https://localhost:8080/"
        }
      },
      "execution_count": null,
      "outputs": [
        {
          "output_type": "stream",
          "name": "stdout",
          "text": [
            "\u001b[1m1/1\u001b[0m \u001b[32m━━━━━━━━━━━━━━━━━━━━\u001b[0m\u001b[37m\u001b[0m \u001b[1m0s\u001b[0m 106ms/step\n",
            "Predicted labels: [5 8 8 0 6 6 1 6]\n",
            "True labels     : [3 8 8 0 6 6 1 6]\n"
          ]
        }
      ]
    },
    {
      "cell_type": "code",
      "source": [
        "import matplotlib.pyplot as plt\n",
        "import numpy as np\n",
        "# CIFAR-10 class names\n",
        "class_names = [\"airplane\", \"car\", \"bird\", \"cat\", \"deer\",\n",
        "\"dog\", \"frog\", \"horse\", \"ship\", \"truck\"]\n",
        "# Get predictions for first 8 test images\n",
        "pred_probs = model.predict(x_test[:8])\n",
        "pred_labels = pred_probs.argmax(axis=1).flatten()\n",
        "true_labels = y_test[:8].flatten()\n",
        "# Plot the images with labels\n",
        "plt.figure(figsize=(12,6))\n",
        "for i in range(8):\n",
        "plt.subplot(2,4,i+1)\n",
        "plt.imshow(x_test[i])\n",
        "plt.axis(\"off\")\n",
        "plt.title(f\"P:{class_names[pred_labels[i]]}\\nT:{class_names[true_labels[i]]}\")\n",
        "plt.tight_layout()\n",
        "plt.show()"
      ],
      "metadata": {
        "id": "i_iByQZHXScE",
        "outputId": "10b8c5ee-7721-4e1f-9d3b-54b0138cf22d",
        "colab": {
          "base_uri": "https://localhost:8080/",
          "height": 110
        }
      },
      "execution_count": null,
      "outputs": [
        {
          "output_type": "error",
          "ename": "IndentationError",
          "evalue": "expected an indented block after 'for' statement on line 12 (ipython-input-961388179.py, line 13)",
          "traceback": [
            "\u001b[0;36m  File \u001b[0;32m\"/tmp/ipython-input-961388179.py\"\u001b[0;36m, line \u001b[0;32m13\u001b[0m\n\u001b[0;31m    plt.subplot(2,4,i+1)\u001b[0m\n\u001b[0m    ^\u001b[0m\n\u001b[0;31mIndentationError\u001b[0m\u001b[0;31m:\u001b[0m expected an indented block after 'for' statement on line 12\n"
          ]
        }
      ]
    }
  ]
}